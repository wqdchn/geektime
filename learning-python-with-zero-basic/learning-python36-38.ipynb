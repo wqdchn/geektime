{
 "cells": [
  {
   "cell_type": "code",
   "execution_count": 10,
   "metadata": {},
   "outputs": [
    {
     "name": "stdout",
     "output_type": "stream",
     "text": [
      "name is tom, hp is 100, occu is war\n",
      "name is jerry, hp is 100, occu is master\n",
      "name is tom, hp is 100, occu is war\n",
      "name is tom, hp is 100, occu is war\n"
     ]
    }
   ],
   "source": [
    "#36 如何增加类的属性和方法\n",
    "\n",
    "class Player():\n",
    "    def __init__(self, name, hp, occu):\n",
    "        self.__name = name\n",
    "        self.hp = hp\n",
    "        self.occu = occu\n",
    "    def print_role(self):\n",
    "        print('name is %s, hp is %s, occu is %s' %(self.__name, self.hp, self.occu))\n",
    "    def updateName(self, newname):\n",
    "        self.name = newname\n",
    "    \n",
    "user1 = Player('tom',100, 'war')\n",
    "user1.print_role()\n",
    "user2 = Player('jerry',100, 'master')\n",
    "user2.print_role()\n",
    "\n",
    "user1.updateName('jack')\n",
    "user1.print_role()\n",
    "\n",
    "user1.__name = ('jack')\n",
    "user1.print_role()\n",
    "\n",
    "class Monster():\n",
    "    '定义怪物类'\n",
    "    pass\n"
   ]
  },
  {
   "cell_type": "code",
   "execution_count": 29,
   "metadata": {},
   "outputs": [
    {
     "name": "stdout",
     "output_type": "stream",
     "text": [
      "25\n",
      "移动到了某个位置\n",
      "50\n",
      "移动到了某个位置\n",
      "150\n",
      "我是boss\n",
      "a1的类型 <class '__main__.Monster'>\n",
      "a2的类型 <class '__main__.Animals'>\n",
      "a3的类型 <class '__main__.Boss'>\n",
      "True\n"
     ]
    }
   ],
   "source": [
    "#37 类的继承\n",
    "class Monster():\n",
    "    '定义怪物类'\n",
    "    def __init__(self, hp = 100):\n",
    "        self.hp = hp\n",
    "    def run(self):\n",
    "        print('移动到了某个位置')\n",
    "    def whoami(self):\n",
    "        print('我是monster')\n",
    "\n",
    "class Animals(Monster):#继承怪物类\n",
    "    '普通怪物'\n",
    "    def __init__(self, hp = 50):\n",
    "        super().__init__(hp)\n",
    "    def whoami(self):\n",
    "        print('我是animals')\n",
    "\n",
    "class Boss(Monster):\n",
    "    'Boss类怪物'\n",
    "    def __init__(self, hp = 150):\n",
    "        super().__init__(hp)\n",
    "    def whoami(self):\n",
    "        print('我是boss')\n",
    "\n",
    "a1 = Monster(25)\n",
    "print(a1.hp)\n",
    "a1.run()\n",
    "\n",
    "a2 = Animals()\n",
    "print(a2.hp)\n",
    "a2.run()\n",
    "\n",
    "a3 = Boss()\n",
    "print(a3.hp)\n",
    "a3.whoami()\n",
    "\n",
    "print('a1的类型 %s' %type(a1))\n",
    "print('a2的类型 %s' %type(a2))\n",
    "print('a3的类型 %s' %type(a3))\n",
    "\n",
    "print(isinstance(a2, Monster))#是否是其子类"
   ]
  },
  {
   "cell_type": "code",
   "execution_count": 34,
   "metadata": {},
   "outputs": [
    {
     "name": "stdout",
     "output_type": "stream",
     "text": [
      "run\n",
      "Test is running\n",
      "有异常 <traceback object at 0x00000230E4028808>\n"
     ]
    },
    {
     "ename": "NameError",
     "evalue": "testNameError",
     "output_type": "error",
     "traceback": [
      "\u001b[1;31m-----------------------------------------------------------------------\u001b[0m",
      "\u001b[1;31mNameError\u001b[0m                             Traceback (most recent call last)",
      "\u001b[1;32m<ipython-input-34-5fefeb7104e5>\u001b[0m in \u001b[0;36m<module>\u001b[1;34m()\u001b[0m\n\u001b[0;32m     13\u001b[0m \u001b[1;32mwith\u001b[0m \u001b[0mTestwith\u001b[0m\u001b[1;33m(\u001b[0m\u001b[1;33m)\u001b[0m\u001b[1;33m:\u001b[0m\u001b[1;33m\u001b[0m\u001b[0m\n\u001b[0;32m     14\u001b[0m     \u001b[0mprint\u001b[0m\u001b[1;33m(\u001b[0m\u001b[1;34m'Test is running'\u001b[0m\u001b[1;33m)\u001b[0m\u001b[1;33m\u001b[0m\u001b[0m\n\u001b[1;32m---> 15\u001b[1;33m     \u001b[1;32mraise\u001b[0m \u001b[0mNameError\u001b[0m\u001b[1;33m(\u001b[0m\u001b[1;34m'testNameError'\u001b[0m\u001b[1;33m)\u001b[0m\u001b[1;31m#手动抛出异常\u001b[0m\u001b[1;33m\u001b[0m\u001b[0m\n\u001b[0m",
      "\u001b[1;31mNameError\u001b[0m: testNameError"
     ]
    }
   ],
   "source": [
    "#38 类的使用-自定义with语句\n",
    "\n",
    "class Testwith():\n",
    "    def __enter__(self):\n",
    "        print('run')\n",
    "    def __exit__(self, exc_type, exc_val, exc_tb):\n",
    "        if exc_tb is None:\n",
    "            print('无异常，正常结束')\n",
    "        else:\n",
    "            print('有异常 %s' %exc_tb)\n",
    "\n",
    "            \n",
    "with Testwith():\n",
    "    print('Test is running')\n",
    "    raise NameError('testNameError')#手动抛出异常"
   ]
  },
  {
   "cell_type": "code",
   "execution_count": null,
   "metadata": {},
   "outputs": [],
   "source": []
  }
 ],
 "metadata": {
  "kernelspec": {
   "display_name": "Python 3",
   "language": "python",
   "name": "python3"
  },
  "language_info": {
   "codemirror_mode": {
    "name": "ipython",
    "version": 3
   },
   "file_extension": ".py",
   "mimetype": "text/x-python",
   "name": "python",
   "nbconvert_exporter": "python",
   "pygments_lexer": "ipython3",
   "version": "3.6.3"
  }
 },
 "nbformat": 4,
 "nbformat_minor": 2
}
