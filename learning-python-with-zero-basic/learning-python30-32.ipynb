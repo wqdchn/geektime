{
 "cells": [
  {
   "cell_type": "code",
   "execution_count": 2,
   "metadata": {},
   "outputs": [
    {
     "name": "stdout",
     "output_type": "stream",
     "text": [
      "1558147295.4180038\n"
     ]
    }
   ],
   "source": [
    "#30 装饰器的定义\n",
    "\n",
    "import time\n",
    "\n",
    "print(time.time())\n",
    "\n",
    "time.sleep(3)"
   ]
  },
  {
   "cell_type": "code",
   "execution_count": 3,
   "metadata": {},
   "outputs": [
    {
     "name": "stdout",
     "output_type": "stream",
     "text": [
      "函数运行了 3.000823736190796 秒\n"
     ]
    }
   ],
   "source": [
    "def i_can_sleep():\n",
    "    time.sleep(3)\n",
    "    \n",
    "start_time = time.time()\n",
    "\n",
    "i_can_sleep()\n",
    "\n",
    "stop_time = time.time()\n",
    "\n",
    "print(\"函数运行了 %s 秒\" %(stop_time -start_time))"
   ]
  },
  {
   "cell_type": "code",
   "execution_count": 8,
   "metadata": {},
   "outputs": [
    {
     "name": "stdout",
     "output_type": "stream",
     "text": [
      "函数运行了 1.0003023147583008 秒\n"
     ]
    }
   ],
   "source": [
    "def timmer(func):\n",
    "    def wrapper():\n",
    "        start_time = time.time()\n",
    "        func()\n",
    "        stop_time = time.time()\n",
    "        print(\"函数运行了 %s 秒\" %(stop_time -start_time))\n",
    "    return wrapper\n",
    "\n",
    "@timmer #装饰器\n",
    "def i_can_sleep():\n",
    "    time.sleep(1)\n",
    "\n",
    "i_can_sleep()\n",
    "\n",
    "#执行过程为 \n",
    "#1. i_can_sleep()\n",
    "#2. 传递参数 timer(i_can_sleep)\n",
    "#3. timmer参数i_can_sleep给了func变量\n",
    "#4. func变量传递给内部函数wrapper()\n",
    "#5. 内部函数定义了时间差，执行传入的变量，这个变量是函数i_can_sleep\n",
    "\n",
    "# 闭包传递的变量是变量，装饰器传递的变量是函数"
   ]
  },
  {
   "cell_type": "code",
   "execution_count": 13,
   "metadata": {},
   "outputs": [
    {
     "name": "stdout",
     "output_type": "stream",
     "text": [
      "start\n",
      "3\n",
      "stop\n",
      "start\n",
      "-1\n",
      "stop\n",
      "start add\n",
      "3\n",
      "stop add\n",
      "start sub\n",
      "-1\n",
      "stop sub\n",
      "start add_mode add\n",
      "3\n",
      "stop add_mode add\n",
      "start sub_mode sub\n",
      "-1\n",
      "stop sub_mode sub\n"
     ]
    }
   ],
   "source": [
    "#31 装饰器的使用\n",
    "\n",
    "def tips(func):\n",
    "    def nei(a,b):\n",
    "        print(\"start\")\n",
    "        func(a,b)\n",
    "        print(\"stop\")\n",
    "    return nei\n",
    "\n",
    "@tips\n",
    "def add(a,b):\n",
    "    print(a+b)\n",
    "    \n",
    "@tips\n",
    "def sub(a,b):\n",
    "    print(a-b)\n",
    "    \n",
    "add(1,2)\n",
    "sub(1,2)\n",
    "\n",
    "###########################################\n",
    "def new_tips(args):\n",
    "    def tips(func):\n",
    "        def nei(a,b):\n",
    "            print(\"start %s\" %args)\n",
    "            func(a,b)\n",
    "            print(\"stop %s\" %args)\n",
    "        return nei\n",
    "    return tips\n",
    "\n",
    "\n",
    "@new_tips(\"add\")\n",
    "def add(a,b):\n",
    "    print(a+b)\n",
    "    \n",
    "@new_tips(\"sub\")\n",
    "def sub(a,b):\n",
    "    print(a-b)\n",
    "    \n",
    "add(1,2)\n",
    "sub(1,2)\n",
    "###########################################\n",
    "\n",
    "def new_tips(args):\n",
    "    def tips(func):\n",
    "        def nei(a,b):\n",
    "            print(\"start %s %s\" %(args, func.__name__))\n",
    "            func(a,b)\n",
    "            print(\"stop %s %s\" %(args, func.__name__))\n",
    "        return nei\n",
    "    return tips\n",
    "\n",
    "@new_tips(\"add_mode\")\n",
    "def add(a,b):\n",
    "    print(a+b)\n",
    "    \n",
    "@new_tips(\"sub_mode\")\n",
    "def sub(a,b):\n",
    "    print(a-b)\n",
    "    \n",
    "add(1,2)\n",
    "sub(1,2)"
   ]
  },
  {
   "cell_type": "code",
   "execution_count": 18,
   "metadata": {},
   "outputs": [
    {
     "name": "stdout",
     "output_type": "stream",
     "text": [
      "诸葛亮|司马懿\n",
      "诸葛亮|司马懿\n"
     ]
    }
   ],
   "source": [
    "# 32 自定义上下文管理器\n",
    "\n",
    "fd = open('data/name.txt',encoding='utf8')\n",
    "\n",
    "try:\n",
    "    for line in fd:\n",
    "        print(line)\n",
    "finally:\n",
    "    fd.close()\n",
    "    \n",
    "with open('data/name.txt',encoding='utf8') as fd:#with上下文管理器\n",
    "     for line in fd:\n",
    "        print(line)\n",
    "        \n"
   ]
  },
  {
   "cell_type": "code",
   "execution_count": null,
   "metadata": {},
   "outputs": [],
   "source": []
  }
 ],
 "metadata": {
  "kernelspec": {
   "display_name": "Python 3",
   "language": "python",
   "name": "python3"
  },
  "language_info": {
   "codemirror_mode": {
    "name": "ipython",
    "version": 3
   },
   "file_extension": ".py",
   "mimetype": "text/x-python",
   "name": "python",
   "nbconvert_exporter": "python",
   "pygments_lexer": "ipython3",
   "version": "3.6.3"
  }
 },
 "nbformat": 4,
 "nbformat_minor": 2
}
