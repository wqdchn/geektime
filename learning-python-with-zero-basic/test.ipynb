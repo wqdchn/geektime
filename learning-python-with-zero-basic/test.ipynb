{
 "cells": [
  {
   "cell_type": "code",
   "execution_count": 1,
   "metadata": {},
   "outputs": [
    {
     "name": "stdout",
     "output_type": "stream",
     "text": [
      "鼠\n",
      "鼠牛虎兔\n",
      "猪\n"
     ]
    }
   ],
   "source": [
    "chinese_zodiac = \"鼠牛虎兔龙蛇马羊猴鸡狗猪\"\n",
    "\n",
    "print(chinese_zodiac[0])\n",
    "print(chinese_zodiac[0:4])\n",
    "print(chinese_zodiac[-1])"
   ]
  },
  {
   "cell_type": "code",
   "execution_count": 2,
   "metadata": {},
   "outputs": [
    {
     "name": "stdout",
     "output_type": "stream",
     "text": [
      "2\n",
      "虎\n"
     ]
    }
   ],
   "source": [
    "year = 2018\n",
    "print(year % 12)\n",
    "\n",
    "print(chinese_zodiac[year % 12])"
   ]
  },
  {
   "cell_type": "code",
   "execution_count": 3,
   "metadata": {},
   "outputs": [
    {
     "name": "stdout",
     "output_type": "stream",
     "text": [
      "狗\n"
     ]
    }
   ],
   "source": [
    "#2018 不是虎年\n",
    "\n",
    "chinese_zodiac_begin_is_2018 = \"猴鸡狗猪鼠牛虎兔龙蛇马羊\"\n",
    "\n",
    "print(chinese_zodiac_begin_is_2018[year % 12])"
   ]
  },
  {
   "cell_type": "code",
   "execution_count": 4,
   "metadata": {},
   "outputs": [
    {
     "name": "stdout",
     "output_type": "stream",
     "text": [
      "('摩羯座', '水瓶座', '双鱼座', '白羊座', '金牛座', '双子座', '巨蟹座', '狮子座', '处女座', '天秤座', '天蝎座', '射手座')\n",
      "((1, 20), (2, 19), (3, 21), (4, 21), (5, 21), (6, 22), (7, 23), (8, 23), (9, 23), (10, 23), (11, 23), (12, 23))\n"
     ]
    }
   ],
   "source": [
    "zodiac_name = (u'摩羯座', u'水瓶座', u'双鱼座', u'白羊座', u'金牛座', u'双子座', u'巨蟹座', \n",
    "             u'狮子座', u'处女座', u'天秤座', u'天蝎座', u'射手座')\n",
    "\n",
    "zodiac_days = ((1,20), (2,19), (3,21), (4,21), (5,21), (6,22), (7,23), (8,23), (9,23), (10,23), (11,23), (12,23))\n",
    "\n",
    "print(zodiac_name)\n",
    "print(zodiac_days)"
   ]
  },
  {
   "cell_type": "code",
   "execution_count": 5,
   "metadata": {},
   "outputs": [
    {
     "name": "stdout",
     "output_type": "stream",
     "text": [
      "False\n",
      "False\n"
     ]
    }
   ],
   "source": [
    "print((4)>(5))#元组中数值的比较，4>5？\n",
    "print((4,5)>(5,5))#元组中数字的比较，45>55？"
   ]
  },
  {
   "cell_type": "code",
   "execution_count": 6,
   "metadata": {},
   "outputs": [],
   "source": [
    "(month, day) = (2, 15)"
   ]
  },
  {
   "cell_type": "code",
   "execution_count": 7,
   "metadata": {},
   "outputs": [
    {
     "data": {
      "text/plain": [
       "[1, 3]"
      ]
     },
     "execution_count": 7,
     "metadata": {},
     "output_type": "execute_result"
    }
   ],
   "source": [
    "a = (1, 3, 5 ,7)\n",
    "b = 4\n",
    "#filter(lambda x: x < b, a)\n",
    "list(filter(lambda x: x < b, a))"
   ]
  },
  {
   "cell_type": "code",
   "execution_count": 8,
   "metadata": {},
   "outputs": [
    {
     "data": {
      "text/plain": [
       "[1, 3, 5]"
      ]
     },
     "execution_count": 8,
     "metadata": {},
     "output_type": "execute_result"
    }
   ],
   "source": [
    "b = 6\n",
    "list(filter(lambda x: x < b, a))"
   ]
  },
  {
   "cell_type": "code",
   "execution_count": 9,
   "metadata": {},
   "outputs": [
    {
     "data": {
      "text/plain": [
       "3"
      ]
     },
     "execution_count": 9,
     "metadata": {},
     "output_type": "execute_result"
    }
   ],
   "source": [
    "len(list(filter(lambda x: x < b, a)))"
   ]
  },
  {
   "cell_type": "code",
   "execution_count": 10,
   "metadata": {},
   "outputs": [
    {
     "name": "stdout",
     "output_type": "stream",
     "text": [
      "<filter object at 0x0000014C63261588>\n"
     ]
    }
   ],
   "source": [
    "zodiac_day = filter(lambda x: x <= (month, day),zodiac_days)\n",
    "print(zodiac_day)#得到一个flter对象"
   ]
  },
  {
   "cell_type": "code",
   "execution_count": 11,
   "metadata": {},
   "outputs": [
    {
     "name": "stdout",
     "output_type": "stream",
     "text": [
      "水瓶座\n"
     ]
    }
   ],
   "source": [
    "zodiac_len = len(list(zodiac_day)) % 12\n",
    "print(zodiac_name[zodiac_len])"
   ]
  },
  {
   "cell_type": "code",
   "execution_count": 12,
   "metadata": {},
   "outputs": [
    {
     "name": "stdout",
     "output_type": "stream",
     "text": [
      "['abc', 'xyz', 'X']\n",
      "['abc', 'X']\n",
      "['abc', 'X', 'abc', 'X']\n"
     ]
    }
   ],
   "source": [
    "a_list = ['abc', 'xyz']\n",
    "a_list.append('X')\n",
    "print(a_list)\n",
    "a_list.remove('xyz')\n",
    "print(a_list)\n",
    "\n",
    "b_list = a_list + a_list\n",
    "print(b_list)"
   ]
  },
  {
   "cell_type": "code",
   "execution_count": 13,
   "metadata": {},
   "outputs": [
    {
     "name": "stdout",
     "output_type": "stream",
     "text": [
      "['abc', 'X', 'abc', 'X']\n",
      "4\n",
      "['X', 'abc']\n"
     ]
    }
   ],
   "source": [
    "b_list = a_list + a_list\n",
    "print(b_list)\n",
    "print(len(b_list))\n",
    "print(b_list[1:3])"
   ]
  },
  {
   "cell_type": "code",
   "execution_count": 14,
   "metadata": {},
   "outputs": [
    {
     "name": "stdout",
     "output_type": "stream",
     "text": [
      "x 等于 abcd\n"
     ]
    }
   ],
   "source": [
    "x = 'abcd'\n",
    "if x == 'abcd':\n",
    "    print('x 等于 abcd')\n",
    "else:\n",
    "    print('x 不等于 abcd')"
   ]
  },
  {
   "cell_type": "code",
   "execution_count": 15,
   "metadata": {},
   "outputs": [
    {
     "name": "stdout",
     "output_type": "stream",
     "text": [
      "鼠\n",
      "牛\n",
      "虎\n",
      "兔\n",
      "龙\n",
      "蛇\n",
      "马\n",
      "羊\n",
      "猴\n",
      "鸡\n",
      "狗\n",
      "猪\n"
     ]
    }
   ],
   "source": [
    "for cz in chinese_zodiac:\n",
    "    print(cz)"
   ]
  },
  {
   "cell_type": "code",
   "execution_count": 16,
   "metadata": {},
   "outputs": [
    {
     "name": "stdout",
     "output_type": "stream",
     "text": [
      "1\n",
      "2\n",
      "3\n",
      "4\n",
      "5\n",
      "6\n",
      "7\n",
      "8\n",
      "9\n",
      "10\n",
      "11\n",
      "12\n",
      "0\n",
      "1\n",
      "2\n",
      "3\n",
      "4\n",
      "5\n",
      "6\n",
      "7\n",
      "8\n",
      "9\n",
      "10\n",
      "11\n"
     ]
    }
   ],
   "source": [
    "for i in range(1,13):\n",
    "    print(i)\n",
    "for i in range(12):\n",
    "    print(i)"
   ]
  },
  {
   "cell_type": "code",
   "execution_count": 17,
   "metadata": {},
   "outputs": [
    {
     "name": "stdout",
     "output_type": "stream",
     "text": [
      "2019 年的生肖是 猪\n",
      "2020 年的生肖是 鼠\n",
      "2021 年的生肖是 牛\n",
      "2022 年的生肖是 虎\n",
      "2023 年的生肖是 兔\n",
      "2024 年的生肖是 龙\n",
      "2025 年的生肖是 蛇\n",
      "2026 年的生肖是 马\n",
      "2027 年的生肖是 羊\n",
      "2028 年的生肖是 猴\n",
      "2029 年的生肖是 鸡\n",
      "2030 年的生肖是 狗\n",
      "2031 年的生肖是 猪\n",
      "2032 年的生肖是 鼠\n",
      "2033 年的生肖是 牛\n",
      "2034 年的生肖是 虎\n"
     ]
    }
   ],
   "source": [
    "for year in range(2019, 2035):\n",
    "    print('%s 年的生肖是 %s' %(year, chinese_zodiac_begin_is_2018[year%12]))"
   ]
  },
  {
   "cell_type": "code",
   "execution_count": 18,
   "metadata": {},
   "outputs": [
    {
     "name": "stdout",
     "output_type": "stream",
     "text": [
      "a\n",
      "a\n",
      "a\n",
      "a\n",
      "a\n",
      "a\n"
     ]
    }
   ],
   "source": [
    "loop = 5\n",
    "while True:\n",
    "    print('a')\n",
    "    loop = loop + 1\n",
    "    if loop > 10:\n",
    "        break"
   ]
  },
  {
   "cell_type": "code",
   "execution_count": 19,
   "metadata": {},
   "outputs": [
    {
     "name": "stdout",
     "output_type": "stream",
     "text": [
      "请输入月份： 2\n",
      "<class 'str'>\n",
      "请输入月份： 2\n",
      "<class 'int'>\n"
     ]
    }
   ],
   "source": [
    "str_month = input('请输入月份： ')\n",
    "#str_day = input('请输入日期： ')\n",
    "print(type(str_month))\n",
    "str_month = int(input('请输入月份： '))\n",
    "print(type(str_month))"
   ]
  },
  {
   "cell_type": "code",
   "execution_count": 25,
   "metadata": {},
   "outputs": [
    {
     "name": "stdout",
     "output_type": "stream",
     "text": [
      "请输入月份： 12\n",
      "请输入日期： 25\n",
      "摩羯座\n"
     ]
    }
   ],
   "source": [
    "int_month = int(input('请输入月份： '))\n",
    "int_day = int(input('请输入日期： '))\n",
    "\n",
    "for zd_num in range(len(zodiac_days)):\n",
    "    if zodiac_days[zd_num] >= (int_month, int_day):\n",
    "        print(zodiac_name[zd_num])\n",
    "        break\n",
    "    elif  int_month == 12 and int_day >= 23:\n",
    "        print(zodiac_name[0])\n",
    "        break"
   ]
  },
  {
   "cell_type": "code",
   "execution_count": 26,
   "metadata": {},
   "outputs": [
    {
     "name": "stdout",
     "output_type": "stream",
     "text": [
      "摩羯座\n"
     ]
    }
   ],
   "source": [
    "#filter(lambda x: x <= (month, day),zodic_days)\n",
    "(month, day) = (12, 25)\n",
    "print(zodiac_name[len(list(filter(lambda x: x <= (month, day),zodiac_days)))%12])"
   ]
  },
  {
   "cell_type": "code",
   "execution_count": 27,
   "metadata": {},
   "outputs": [
    {
     "name": "stdout",
     "output_type": "stream",
     "text": [
      "摩羯座\n"
     ]
    }
   ],
   "source": [
    "n = 0\n",
    "while zodiac_days[n] <= (int_month, int_day):\n",
    "    if int_month == 12 and int_day>= 23:\n",
    "        break\n",
    "    n += 1\n",
    "print(zodiac_name[n])"
   ]
  },
  {
   "cell_type": "code",
   "execution_count": null,
   "metadata": {},
   "outputs": [
    {
     "name": "stdout",
     "output_type": "stream",
     "text": [
      "<class 'dict'>\n",
      "{'x': 1, 'y': 2, 'z': 3}\n",
      "请输入年份：2018\n",
      "请输入月份: 12\n",
      "请输入日期：29\n",
      "摩羯座\n",
      "2018 年的生肖是 狗\n",
      "生肖 鼠 有 0 个\n",
      "生肖 牛 有 0 个\n",
      "生肖 虎 有 0 个\n",
      "生肖 兔 有 0 个\n",
      "生肖 龙 有 0 个\n",
      "生肖 蛇 有 0 个\n",
      "生肖 马 有 0 个\n",
      "生肖 羊 有 0 个\n",
      "生肖 猴 有 0 个\n",
      "生肖 鸡 有 0 个\n",
      "生肖 狗 有 1 个\n",
      "生肖 猪 有 0 个\n",
      "星座 摩羯座 有 1 个\n",
      "星座 水瓶座 有 0 个\n",
      "星座 双鱼座 有 0 个\n",
      "星座 白羊座 有 0 个\n",
      "星座 金牛座 有 0 个\n",
      "星座 双子座 有 0 个\n",
      "星座 巨蟹座 有 0 个\n",
      "星座 狮子座 有 0 个\n",
      "星座 处女座 有 0 个\n",
      "星座 天秤座 有 0 个\n",
      "星座 天蝎座 有 0 个\n",
      "星座 射手座 有 0 个\n"
     ]
    }
   ],
   "source": [
    "#17-字典的定义和常用操作\n",
    "#用户输入后记录，以便于统计输入的信息分布情况\n",
    "\n",
    "dict1 = {}\n",
    "print(type(dict1))\n",
    "\n",
    "dict2 = {'x':1, 'y':2}\n",
    "dict2['z'] = 3\n",
    "print(dict2)\n",
    "\n",
    "cz_num = {}\n",
    "for i in chinese_zodiac:\n",
    "    cz_num[i] = 0\n",
    "\n",
    "z_num = {}\n",
    "for i in zodiac_name:\n",
    "    z_num[i] = 0\n",
    "    \n",
    "while True:\n",
    "    #用户输入出生年月日\n",
    "    year = int(input('请输入年份：'))\n",
    "    month = int(input('请输入月份: '))\n",
    "    day = int(input('请输入日期：'))\n",
    "    \n",
    "    n = 0\n",
    "    while zodiac_days[n] <= (int_month, int_day):\n",
    "        if int_month == 12 and int_day>= 23:\n",
    "            break\n",
    "        n += 1\n",
    "    #输出生肖和星座\n",
    "    print(zodiac_name[n])\n",
    "    \n",
    "    print('%s 年的生肖是 %s' % (year, chinese_zodiac_begin_is_2018[year % 12]))\n",
    "    \n",
    "    cz_num[chinese_zodiac_begin_is_2018[year % 12]] +=1\n",
    "    z_num[zodiac_name[n]] += 1\n",
    "    \n",
    "    #输出生肖和星座的统计信息\n",
    "    for each_key in cz_num.keys():\n",
    "        print('生肖 %s 有 %d 个'% (each_key,cz_num[each_key]))\n",
    "    \n",
    "    for each_key in z_num.keys():\n",
    "        print('星座 %s 有 %d 个'% (each_key,z_num[each_key]))"
   ]
  },
  {
   "cell_type": "code",
   "execution_count": null,
   "metadata": {},
   "outputs": [],
   "source": []
  }
 ],
 "metadata": {
  "kernelspec": {
   "display_name": "Python 3",
   "language": "python",
   "name": "python3"
  },
  "language_info": {
   "codemirror_mode": {
    "name": "ipython",
    "version": 3
   },
   "file_extension": ".py",
   "mimetype": "text/x-python",
   "name": "python",
   "nbconvert_exporter": "python",
   "pygments_lexer": "ipython3",
   "version": "3.6.3"
  }
 },
 "nbformat": 4,
 "nbformat_minor": 2
}
