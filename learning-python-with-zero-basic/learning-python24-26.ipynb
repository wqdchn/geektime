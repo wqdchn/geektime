{
 "cells": [
  {
   "cell_type": "code",
   "execution_count": 5,
   "metadata": {},
   "outputs": [
    {
     "name": "stdout",
     "output_type": "stream",
     "text": [
      "123\n",
      "456\n",
      "123\n",
      "456\n",
      "456\n"
     ]
    }
   ],
   "source": [
    "#24 函数的变量作用域\n",
    "\n",
    "var1 = 123\n",
    "\n",
    "def func():\n",
    "    print(var1)\n",
    "    \n",
    "func()\n",
    "\n",
    "def func():\n",
    "    var1 = 456\n",
    "    print(var1)\n",
    "    \n",
    "func()\n",
    "print(var1)\n",
    "\n",
    "def func():\n",
    "    global var1# 定义一个全局变量\n",
    "    var1 = 456\n",
    "    print(var1)\n",
    "\n",
    "func()\n",
    "print(var1)"
   ]
  },
  {
   "cell_type": "code",
   "execution_count": 7,
   "metadata": {},
   "outputs": [
    {
     "name": "stdout",
     "output_type": "stream",
     "text": [
      "1\n",
      "2\n",
      "3\n"
     ]
    }
   ],
   "source": [
    "#25 函数的迭代器和生成器\n",
    "\n",
    "list1 = [1, 2, 3]\n",
    "\n",
    "it = iter(list1)\n",
    "print(next(it))\n",
    "print(next(it))\n",
    "print(next(it))"
   ]
  },
  {
   "cell_type": "code",
   "execution_count": 16,
   "metadata": {},
   "outputs": [
    {
     "name": "stdout",
     "output_type": "stream",
     "text": [
      "10\n",
      "12\n",
      "14\n",
      "16\n",
      "18\n",
      "10\n",
      "10.5\n",
      "11.0\n",
      "11.5\n",
      "12.0\n",
      "12.5\n",
      "13.0\n",
      "13.5\n",
      "14.0\n",
      "14.5\n",
      "15.0\n",
      "15.5\n",
      "16.0\n",
      "16.5\n",
      "17.0\n",
      "17.5\n",
      "18.0\n",
      "18.5\n",
      "19.0\n",
      "19.5\n"
     ]
    }
   ],
   "source": [
    "#25 函数的迭代器和生成器\n",
    "for i in range(10, 20, 2):\n",
    "    print(i)\n",
    "    \n",
    "def frange(star, stop, step):\n",
    "    x = star\n",
    "    while x < stop:\n",
    "        #print(x)\n",
    "        yield x #运行到当前位置会暂停并记录当前位置\n",
    "        x += step\n",
    "\n",
    "for i in frange(10, 20, 0.5):\n",
    "    print(i)"
   ]
  },
  {
   "cell_type": "code",
   "execution_count": 28,
   "metadata": {},
   "outputs": [
    {
     "name": "stdout",
     "output_type": "stream",
     "text": [
      "8\n",
      "8\n",
      "<filter object at 0x000001830E7E35F8>\n",
      "[18, 9, 24, 12, 27]\n"
     ]
    }
   ],
   "source": [
    "#26 lambda表达式\n",
    "\n",
    "def t1(): return True\n",
    "lambda : True\n",
    "\n",
    "t1()\n",
    "\n",
    "def add(x, y):\n",
    "    return x+y\n",
    "\n",
    "print(add(3, 5))\n",
    "\n",
    "l1 = lambda x,y:x+y\n",
    "\n",
    "print(l1(3, 5))\n",
    "\n",
    "foo = [2, 18, 9, 22, 17, 24, 8, 12, 27]\n",
    "\n",
    "rs = list(filter(lambda x: x % 3 == 0, foo))\n",
    "\n",
    "print(filter(lambda x: x % 3 == 0, foo))\n",
    "print(rs)"
   ]
  },
  {
   "cell_type": "code",
   "execution_count": null,
   "metadata": {},
   "outputs": [],
   "source": []
  }
 ],
 "metadata": {
  "kernelspec": {
   "display_name": "Python 3",
   "language": "python",
   "name": "python3"
  },
  "language_info": {
   "codemirror_mode": {
    "name": "ipython",
    "version": 3
   },
   "file_extension": ".py",
   "mimetype": "text/x-python",
   "name": "python",
   "nbconvert_exporter": "python",
   "pygments_lexer": "ipython3",
   "version": "3.6.3"
  }
 },
 "nbformat": 4,
 "nbformat_minor": 2
}
