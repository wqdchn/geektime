{
 "cells": [
  {
   "cell_type": "code",
   "execution_count": 1,
   "metadata": {},
   "outputs": [],
   "source": [
    "#45 正则表达式库函数match与search的区别\n",
    "\n",
    "import re"
   ]
  },
  {
   "cell_type": "code",
   "execution_count": 4,
   "metadata": {},
   "outputs": [
    {
     "name": "stdout",
     "output_type": "stream",
     "text": [
      "<_sre.SRE_Match object; span=(0, 10), match='2018-05-10'>\n",
      "None\n"
     ]
    }
   ],
   "source": [
    "p = re.compile(r'(\\d+)-(\\d+)-(\\d+)')\n",
    "print(p.match('2018-05-10'))\n",
    "print(p.match('abc2018-05-10'))"
   ]
  },
  {
   "cell_type": "code",
   "execution_count": 6,
   "metadata": {},
   "outputs": [
    {
     "name": "stdout",
     "output_type": "stream",
     "text": [
      "<_sre.SRE_Match object; span=(0, 10), match='2018-05-10'>\n",
      "<_sre.SRE_Match object; span=(3, 13), match='2018-05-10'>\n"
     ]
    }
   ],
   "source": [
    "print(p.search('2018-05-10'))\n",
    "print(p.search('abc2018-05-10'))"
   ]
  },
  {
   "cell_type": "code",
   "execution_count": 12,
   "metadata": {},
   "outputs": [
    {
     "name": "stdout",
     "output_type": "stream",
     "text": [
      "123-456-789 \n",
      "123456789\n"
     ]
    }
   ],
   "source": [
    "#46 正则表达式库替换函数sub的示例\n",
    "phone = '123-456-789 # 这是电话号码'\n",
    "\n",
    "#sub第一个参数是匹配规则，第二个部分是用于替换的内容，第三是要替换的字符串\n",
    "p2 = re.sub(r'#.*$','',phone)\n",
    "\n",
    "print(p2)\n",
    "\n",
    "p3 = re.sub(r'\\D','',p2)#非数字部分替换为空\n",
    "\n",
    "print(p3)"
   ]
  },
  {
   "cell_type": "code",
   "execution_count": 13,
   "metadata": {},
   "outputs": [
    {
     "name": "stdout",
     "output_type": "stream",
     "text": [
      "1558581788.43464\n"
     ]
    }
   ],
   "source": [
    "#47 日期与时间函数库\n",
    "import time\n",
    "print(time.time())#1970年1月1日距今的秒数"
   ]
  },
  {
   "cell_type": "code",
   "execution_count": 17,
   "metadata": {},
   "outputs": [
    {
     "name": "stdout",
     "output_type": "stream",
     "text": [
      "time.struct_time(tm_year=2019, tm_mon=5, tm_mday=23, tm_hour=11, tm_min=25, tm_sec=18, tm_wday=3, tm_yday=143, tm_isdst=0)\n",
      "2019-05-23 11-25-18\n",
      "20190523112518\n"
     ]
    }
   ],
   "source": [
    "print(time.localtime())\n",
    "print(time.strftime('%Y-%m-%d %H-%M-%S'))\n",
    "print(time.strftime('%Y%m%d%H%M%S'))"
   ]
  },
  {
   "cell_type": "code",
   "execution_count": 18,
   "metadata": {},
   "outputs": [],
   "source": [
    "import datetime"
   ]
  },
  {
   "cell_type": "code",
   "execution_count": 22,
   "metadata": {},
   "outputs": [
    {
     "name": "stdout",
     "output_type": "stream",
     "text": [
      "2019-05-23 11:27:03.124457\n",
      "2019-05-23 11:37:03.124457\n"
     ]
    }
   ],
   "source": [
    "print(datetime.datetime.now())\n",
    "newtime = datetime.timedelta(minutes=10)\n",
    "\n",
    "print(datetime.datetime.now() + newtime)"
   ]
  },
  {
   "cell_type": "code",
   "execution_count": 23,
   "metadata": {},
   "outputs": [
    {
     "name": "stdout",
     "output_type": "stream",
     "text": [
      "2008-06-06 00:00:00\n"
     ]
    }
   ],
   "source": [
    "one_day = datetime.datetime(2008,5,27)\n",
    "new_date = datetime.timedelta(days=10)\n",
    "print(one_day + new_date)"
   ]
  },
  {
   "cell_type": "code",
   "execution_count": 25,
   "metadata": {},
   "outputs": [],
   "source": [
    "#48 数学相关库\n",
    "import math\n",
    "import random"
   ]
  },
  {
   "cell_type": "code",
   "execution_count": 31,
   "metadata": {},
   "outputs": [
    {
     "name": "stdout",
     "output_type": "stream",
     "text": [
      "0.5403023058681397\n",
      "-2.4492935982947064e-16\n",
      "3.141592653589793\n"
     ]
    }
   ],
   "source": [
    "print(math.cos(1))\n",
    "print(math.sin(2*math.pi))\n",
    "print(math.pi)"
   ]
  },
  {
   "cell_type": "code",
   "execution_count": 35,
   "metadata": {},
   "outputs": [
    {
     "name": "stdout",
     "output_type": "stream",
     "text": [
      "2\n",
      "4\n"
     ]
    }
   ],
   "source": [
    "print(random.randint(1,5))\n",
    "print(random.randint(1,5))"
   ]
  },
  {
   "cell_type": "code",
   "execution_count": 37,
   "metadata": {},
   "outputs": [
    {
     "name": "stdout",
     "output_type": "stream",
     "text": [
      "aa\n",
      "bb\n"
     ]
    }
   ],
   "source": [
    "print(random.choice(['aa','bb','cc']))\n",
    "print(random.choice(['aa','bb','cc']))"
   ]
  },
  {
   "cell_type": "code",
   "execution_count": 39,
   "metadata": {},
   "outputs": [
    {
     "name": "stdout",
     "output_type": "stream",
     "text": [
      "['aa']\n"
     ]
    }
   ],
   "source": [
    "print(random.choices(['aa','bb','cc']))"
   ]
  }
 ],
 "metadata": {
  "kernelspec": {
   "display_name": "Python 3",
   "language": "python",
   "name": "python3"
  },
  "language_info": {
   "codemirror_mode": {
    "name": "ipython",
    "version": 3
   },
   "file_extension": ".py",
   "mimetype": "text/x-python",
   "name": "python",
   "nbconvert_exporter": "python",
   "pygments_lexer": "ipython3",
   "version": "3.6.3"
  }
 },
 "nbformat": 4,
 "nbformat_minor": 2
}
