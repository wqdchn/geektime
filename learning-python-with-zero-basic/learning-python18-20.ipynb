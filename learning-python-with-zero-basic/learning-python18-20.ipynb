{
 "cells": [
  {
   "cell_type": "code",
   "execution_count": 5,
   "metadata": {},
   "outputs": [
    {
     "name": "stdout",
     "output_type": "stream",
     "text": [
      "[4, 16, 36, 64, 100]\n",
      "[4, 16, 36, 64, 100]\n",
      "{'摩羯座': 0, '水瓶座': 0, '双鱼座': 0, '白羊座': 0, '金牛座': 0, '双子座': 0, '巨蟹座': 0, '狮子座': 0, '处女座': 0, '天秤座': 0, '天蝎座': 0, '射手座': 0}\n",
      "{'摩羯座': 0, '水瓶座': 0, '双鱼座': 0, '白羊座': 0, '金牛座': 0, '双子座': 0, '巨蟹座': 0, '狮子座': 0, '处女座': 0, '天秤座': 0, '天蝎座': 0, '射手座': 0}\n"
     ]
    }
   ],
   "source": [
    "#18 列表推导式和字典推导式\n",
    "alist = []\n",
    "\n",
    "for i in range(1,11):\n",
    "    if(i % 2 == 0 ):\n",
    "        alist.append(i*i)\n",
    "\n",
    "print(alist)\n",
    "\n",
    "blist = [i*i for i in range(1,11) if(i % 2)== 0]\n",
    "\n",
    "print(blist)\n",
    "\n",
    "\n",
    "zodiac_name = (u'摩羯座', u'水瓶座', u'双鱼座', u'白羊座', u'金牛座', u'双子座', u'巨蟹座', \n",
    "             u'狮子座', u'处女座', u'天秤座', u'天蝎座', u'射手座')\n",
    "\n",
    "z_num = {}\n",
    "for i in zodiac_name:\n",
    "    z_num[i] = 0\n",
    "    \n",
    "print(z_num)\n",
    "\n",
    "print({i:0 for i in zodiac_name})"
   ]
  },
  {
   "cell_type": "code",
   "execution_count": 19,
   "metadata": {},
   "outputs": [
    {
     "name": "stdout",
     "output_type": "stream",
     "text": [
      "司马懿\n",
      "司马懿诸葛亮\n"
     ]
    }
   ],
   "source": [
    "#19 文件的内建立函数\n",
    "file = open('data/name.txt','w')\n",
    "\n",
    "file.write('司马懿')\n",
    "file.close()\n",
    "\n",
    "file = open('data/name.txt')\n",
    "\n",
    "print(file.read())\n",
    "file.close()\n",
    "\n",
    "file = open('data/name.txt','a')#a 追加写\n",
    "file.write('诸葛亮')\n",
    "file.close()\n",
    "\n",
    "file = open('data/name.txt')\n",
    "print(file.read())\n",
    "file.close()\n",
    "\n"
   ]
  },
  {
   "cell_type": "code",
   "execution_count": 59,
   "metadata": {},
   "outputs": [
    {
     "name": "stdout",
     "output_type": "stream",
     "text": [
      "=====\n",
      "1.司马懿诸葛亮\n",
      "\n",
      "=====\n",
      "=====\n",
      "2.曹操孙权刘备\n",
      "\n",
      "=====\n",
      "=====\n",
      "3.曹仁关羽张辽\n",
      "=====\n",
      "当前指针位置 0\n",
      "当前指针位置 1\n",
      "当前指针位置 0\n",
      "当前指针位置 76\n"
     ]
    }
   ],
   "source": [
    "#20 文件的常用操作\n",
    "file = open('data/name.txt',encoding='utf-8')\n",
    "#print(file.readline())\n",
    "\n",
    "for i in file.readlines():\n",
    "    print('=====')\n",
    "    print(i)\n",
    "    print('=====')\n",
    "\n",
    "file.close()\n",
    "    \n",
    "file2 = open('data/name.txt','rb')\n",
    "print('当前指针位置 %s' %file2.tell())#文件指针位置\n",
    "\n",
    "file2.read(1)\n",
    "print('当前指针位置 %s' %file2.tell())#文件指针位置\n",
    "\n",
    "file2.seek(0)#移动位置\n",
    "print('当前指针位置 %s' %file2.tell())#文件指针位置\n",
    "\n",
    "#seek参数含义，第一个参数代表偏移位置，第二个参数 ‘0’表示从文件开头偏移 ‘1’表示从当前位置开始偏移  ‘2’表示从文件结尾开始偏移\n",
    "\n",
    "file2.seek(12,2)#移动位置\n",
    "print('当前指针位置 %s' %file2.tell())#文件指针位置\n",
    "\n",
    "file2.close()"
   ]
  },
  {
   "cell_type": "code",
   "execution_count": null,
   "metadata": {},
   "outputs": [],
   "source": []
  }
 ],
 "metadata": {
  "kernelspec": {
   "display_name": "Python 3",
   "language": "python",
   "name": "python3"
  },
  "language_info": {
   "codemirror_mode": {
    "name": "ipython",
    "version": 3
   },
   "file_extension": ".py",
   "mimetype": "text/x-python",
   "name": "python",
   "nbconvert_exporter": "python",
   "pygments_lexer": "ipython3",
   "version": "3.6.3"
  }
 },
 "nbformat": 4,
 "nbformat_minor": 2
}
