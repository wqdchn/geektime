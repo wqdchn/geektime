{
 "cells": [
  {
   "cell_type": "code",
   "execution_count": 7,
   "metadata": {},
   "outputs": [],
   "source": [
    "#39 多线程编程的定义\n",
    "import threading\n",
    "import time\n",
    "from threading import current_thread\n"
   ]
  },
  {
   "cell_type": "code",
   "execution_count": 13,
   "metadata": {},
   "outputs": [
    {
     "name": "stdout",
     "output_type": "stream",
     "text": [
      "Thread-51 start\n",
      "1 2\n",
      "Thread-52 start\n",
      "2 3\n",
      "Thread-53Thread-54 Thread-55start \n",
      "3 4\n",
      "start\n",
      "4 5\n",
      "MainThread start\n",
      "5 6\n",
      " end\n"
     ]
    }
   ],
   "source": [
    "def myThread(arg1, arg2):\n",
    "    print(current_thread().getName(),'start')\n",
    "    print('%s %s' %(arg1, arg2))\n",
    "    time.sleep(1)\n",
    "    \n",
    "for i in range(1,6,1):\n",
    "    #t1 = myThread(1, i+1)\n",
    "    t2 = threading.Thread(target = myThread, args = (i, i+1))\n",
    "    t2.start()\n",
    "print(current_thread().getName(),'end')"
   ]
  },
  {
   "cell_type": "code",
   "execution_count": 15,
   "metadata": {},
   "outputs": [
    {
     "name": "stdout",
     "output_type": "stream",
     "text": [
      "Thread-57 start\n",
      "run\n",
      "Thread-57 stop\n",
      "MainThread end\n"
     ]
    }
   ],
   "source": [
    "import threading \n",
    "from threading import current_thread\n",
    "\n",
    "class Mythread(threading.Thread):\n",
    "\tdef run(self):\n",
    "\t\tprint(current_thread().getName(),'start')\n",
    "\t\tprint('run')\n",
    "\t\tprint(current_thread().getName(),'stop')\n",
    "\t\t\n",
    "t1 = Mythread()\n",
    "t1.start()\n",
    "t1.join()\n",
    "\n",
    "print(current_thread().getName(),'end')"
   ]
  },
  {
   "cell_type": "code",
   "execution_count": 1,
   "metadata": {},
   "outputs": [],
   "source": [
    "#40 经典的消费者和生产者问题\n",
    "\n",
    "from threading import Thread,current_thread\n",
    "import time\n",
    "import random\n",
    "from queue import Queue"
   ]
  },
  {
   "cell_type": "code",
   "execution_count": 2,
   "metadata": {},
   "outputs": [
    {
     "name": "stdout",
     "output_type": "stream",
     "text": [
      "生产者 p1 生产了数据 65 \n",
      "\n",
      "消费者 c1 消费了数据 65 \n",
      "\n",
      "消费者 c1 睡眠了 2秒 \n",
      "\n",
      "生产者 p1 睡眠了 3秒 \n",
      "\n",
      "生产者 p1 生产了数据 43 \n",
      "消费者 c2 消费了数据 43 \n",
      "\n",
      "\n",
      "消费者 c2 睡眠了 1秒 \n",
      "\n",
      "生产者 p1 睡眠了 2秒 \n",
      "\n",
      "生产者 p1 生产了数据 1 \n",
      "消费者 c1 消费了数据 1 \n",
      "\n",
      "\n",
      "消费者 c1 睡眠了 2秒 \n",
      "\n",
      "生产者 p1 睡眠了 3秒 \n",
      "\n",
      "生产者 p1 生产了数据 40 \n",
      "消费者 c2 消费了数据 40 \n",
      "\n",
      "\n",
      "消费者 c2 睡眠了 1秒 \n",
      "\n",
      "生产者 p1 睡眠了 2秒 \n",
      "\n",
      "生产者 p1 生产了数据 73 \n",
      "消费者 c1 消费了数据 73 \n",
      "\n",
      "\n",
      "生产者 p1 睡眠了 2秒 \n",
      "\n",
      "生产者 p1 生产了数据 79 \n",
      "消费者 c2 消费了数据 79 \n",
      "\n",
      "\n",
      "生产者 p1 睡眠了 2秒 \n",
      "\n",
      "生产者 p1 生产了数据 83 \n",
      "\n"
     ]
    }
   ],
   "source": [
    "queue = Queue(5)\n",
    "class ProducerThread(Thread):\n",
    "    def run(self):\n",
    "        name = current_thread().getName()\n",
    "        nums = range(100)\n",
    "        global queue\n",
    "        while True:\n",
    "            num = random.choice(nums)\n",
    "            queue.put(num)\n",
    "            print('生产者 %s 生产了数据 %s \\n' %(name, num))\n",
    "            t = random.randint(1,3)\n",
    "            time.sleep(t)\n",
    "            print('生产者 %s 睡眠了 %s秒 \\n' %(name, t))\n",
    "\n",
    "class ConsumerThread(Thread):\n",
    "    def run(self):\n",
    "        name = current_thread().getName()\n",
    "        global queue\n",
    "        while True:\n",
    "            num = queue.get()\n",
    "            queue.task_done()#该函数已经封装了线程等待的代码\n",
    "            print('消费者 %s 消费了数据 %s \\n' %(name, num))\n",
    "            t = random.randint(1,5)\n",
    "            time.sleep(t)\n",
    "            print('消费者 %s 睡眠了 %s秒 \\n' %(name, t))\n",
    "            \n",
    "p1 = ProducerThread(name = 'p1')\n",
    "p1.start()\n",
    "\n",
    "c1 = ConsumerThread(name = 'c1')\n",
    "c1.start()\n",
    "c2 = ConsumerThread(name = 'c2')\n",
    "c2.start()"
   ]
  },
  {
   "cell_type": "code",
   "execution_count": null,
   "metadata": {},
   "outputs": [],
   "source": [
    "#41 python标准库的定义\n",
    "\n",
    "#docs.python.org\n",
    "#https://docs.python.org/zh-cn/3/"
   ]
  }
 ],
 "metadata": {
  "kernelspec": {
   "display_name": "Python 3",
   "language": "python",
   "name": "python3"
  },
  "language_info": {
   "codemirror_mode": {
    "name": "ipython",
    "version": 3
   },
   "file_extension": ".py",
   "mimetype": "text/x-python",
   "name": "python",
   "nbconvert_exporter": "python",
   "pygments_lexer": "ipython3",
   "version": "3.6.3"
  }
 },
 "nbformat": 4,
 "nbformat_minor": 2
}
