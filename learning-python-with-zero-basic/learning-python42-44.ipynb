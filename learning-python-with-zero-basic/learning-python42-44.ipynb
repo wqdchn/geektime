{
 "cells": [
  {
   "cell_type": "code",
   "execution_count": 1,
   "metadata": {},
   "outputs": [],
   "source": [
    "#42 正则表达式库re\n",
    "\n",
    "import re"
   ]
  },
  {
   "cell_type": "code",
   "execution_count": 4,
   "metadata": {},
   "outputs": [
    {
     "name": "stdout",
     "output_type": "stream",
     "text": [
      "<_sre.SRE_Match object; span=(0, 1), match='a'>\n",
      "None\n"
     ]
    }
   ],
   "source": [
    "p = re.compile('a')\n",
    "p.match('a')\n",
    "print(p.match('a'))\n",
    "print(p.match('b'))"
   ]
  },
  {
   "cell_type": "code",
   "execution_count": 5,
   "metadata": {},
   "outputs": [
    {
     "name": "stdout",
     "output_type": "stream",
     "text": [
      "<_sre.SRE_Match object; span=(0, 9), match='caaaaaaat'>\n"
     ]
    }
   ],
   "source": [
    "p = re.compile('ca*t')\n",
    "print(p.match('caaaaaaat'))"
   ]
  },
  {
   "cell_type": "code",
   "execution_count": 8,
   "metadata": {},
   "outputs": [
    {
     "name": "stdout",
     "output_type": "stream",
     "text": [
      "<_sre.SRE_Match object; span=(0, 1), match='c'>\n",
      "<_sre.SRE_Match object; span=(0, 1), match='c'>\n",
      "<_sre.SRE_Match object; span=(0, 3), match='caa'>\n",
      "None\n"
     ]
    }
   ],
   "source": [
    "#43 正则表达式的元字符\n",
    "\n",
    "# .\n",
    "p = re.compile('.')\n",
    "print(p.match('caaaaaaat'))\n",
    "print(p.match('ca'))\n",
    "\n",
    "p = re.compile('...')\n",
    "print(p.match('caaaaaaat'))\n",
    "print(p.match('ca'))"
   ]
  },
  {
   "cell_type": "code",
   "execution_count": 12,
   "metadata": {},
   "outputs": [
    {
     "name": "stdout",
     "output_type": "stream",
     "text": [
      "<_sre.SRE_Match object; span=(0, 9), match='caaaaaaat'>\n",
      "<_sre.SRE_Match object; span=(0, 2), match='ca'>\n"
     ]
    }
   ],
   "source": [
    "# ^ 注意，这是一个shift+f6的次方符号,表示以什么做开头进行搜索\n",
    "# $ 美元符号，表示以什么结尾\n",
    "# 查看官方文档。。\n",
    "\n",
    "p = re.compile('c.*')\n",
    "print(p.match('caaaaaaat'))\n",
    "print(p.match('ca'))"
   ]
  },
  {
   "cell_type": "code",
   "execution_count": 17,
   "metadata": {},
   "outputs": [
    {
     "name": "stdout",
     "output_type": "stream",
     "text": [
      "None\n",
      "<_sre.SRE_Match object; span=(0, 7), match='caaaaat'>\n",
      "<_sre.SRE_Match object; span=(0, 9), match='caaaaaaat'>\n",
      "<_sre.SRE_Match object; span=(0, 7), match='caaaaat'>\n"
     ]
    }
   ],
   "source": [
    "p = re.compile('ca{5}t')#大括号\n",
    "print(p.match('caaaaaaat'))\n",
    "print(p.match('caaaaat'))\n",
    "\n",
    "p = re.compile('ca{5,7}t')\n",
    "print(p.match('caaaaaaat'))\n",
    "print(p.match('caaaaat'))"
   ]
  },
  {
   "cell_type": "code",
   "execution_count": 24,
   "metadata": {},
   "outputs": [
    {
     "name": "stdout",
     "output_type": "stream",
     "text": [
      "<_sre.SRE_Match object; span=(0, 3), match='cat'>\n",
      "<_sre.SRE_Match object; span=(0, 3), match='cbt'>\n",
      "None\n"
     ]
    }
   ],
   "source": [
    "p = re.compile('c[ab]t')#中括号\n",
    "print(p.match('cat'))\n",
    "print(p.match('cbt'))\n",
    "print(p.match('cct'))"
   ]
  },
  {
   "cell_type": "code",
   "execution_count": 37,
   "metadata": {},
   "outputs": [
    {
     "name": "stdout",
     "output_type": "stream",
     "text": [
      "<_sre.SRE_Match object; span=(0, 3), match='123'>\n",
      "None\n"
     ]
    }
   ],
   "source": [
    "p = re.compile('\\d*')\n",
    "print(p.match('123'))\n",
    "\n",
    "p = re.compile('\\D')\n",
    "print(p.match('123-456-789'))"
   ]
  },
  {
   "cell_type": "code",
   "execution_count": 40,
   "metadata": {},
   "outputs": [
    {
     "name": "stdout",
     "output_type": "stream",
     "text": [
      "<_sre.SRE_Match object; span=(0, 0), match=''>\n"
     ]
    }
   ],
   "source": [
    "p = re.compile('^$')\n",
    "print(p.match(''))"
   ]
  },
  {
   "cell_type": "code",
   "execution_count": 53,
   "metadata": {},
   "outputs": [
    {
     "name": "stdout",
     "output_type": "stream",
     "text": [
      "<_sre.SRE_Match object; span=(0, 10), match='abcccccc d'>\n",
      "<_sre.SRE_Match object; span=(0, 13), match='abccccccccccd'>\n"
     ]
    }
   ],
   "source": [
    "p = re.compile('ab.*?d')\n",
    "print(p.match('abcccccc dccccd'))\n",
    "print(p.match('abccccccccccd'))"
   ]
  },
  {
   "cell_type": "code",
   "execution_count": 69,
   "metadata": {},
   "outputs": [
    {
     "name": "stdout",
     "output_type": "stream",
     "text": [
      "<_sre.SRE_Match object; span=(0, 3), match='cct'>\n",
      "<_sre.SRE_Match object; span=(0, 10), match='2018-05-10'>\n",
      "None\n",
      "<_sre.SRE_Match object; span=(0, 9), match='2018-5-10'>\n",
      "2018\n",
      "5\n",
      "10\n",
      "('2018', '5', '10')\n",
      "2018510\n"
     ]
    }
   ],
   "source": [
    "#44 正则表达式分组功能示例\n",
    "\n",
    "p = re.compile('.{3}')\n",
    "print(p.match('cct'))\n",
    "\n",
    "p = re.compile('....-..-..')\n",
    "print(p.match('2018-05-10'))\n",
    "\n",
    "p = re.compile(r'\\d-\\d-\\d')\n",
    "print(p.match('2018-5-10'))\n",
    "\n",
    "p = re.compile(r'(\\d+)-(\\d+)-(\\d+)')\n",
    "print(p.match('2018-5-10'))\n",
    "print(p.match('2018-5-10').group(1))\n",
    "print(p.match('2018-5-10').group(2))\n",
    "print(p.match('2018-5-10').group(3))\n",
    "print(p.match('2018-5-10').groups())\n",
    "\n",
    "year, month, day = p.match('2018-5-10').groups()\n",
    "\n",
    "print(year+month+day)"
   ]
  },
  {
   "cell_type": "code",
   "execution_count": null,
   "metadata": {},
   "outputs": [],
   "source": []
  }
 ],
 "metadata": {
  "kernelspec": {
   "display_name": "Python 3",
   "language": "python",
   "name": "python3"
  },
  "language_info": {
   "codemirror_mode": {
    "name": "ipython",
    "version": 3
   },
   "file_extension": ".py",
   "mimetype": "text/x-python",
   "name": "python",
   "nbconvert_exporter": "python",
   "pygments_lexer": "ipython3",
   "version": "3.6.3"
  }
 },
 "nbformat": 4,
 "nbformat_minor": 2
}
