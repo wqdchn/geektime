{
 "cells": [
  {
   "cell_type": "code",
   "execution_count": 45,
   "metadata": {},
   "outputs": [],
   "source": [
    "#55 Pandas安装与Series结构\n",
    "from pandas import Series, DataFrame\n",
    "import pandas as pd\n",
    "import numpy as np"
   ]
  },
  {
   "cell_type": "code",
   "execution_count": 2,
   "metadata": {},
   "outputs": [
    {
     "name": "stdout",
     "output_type": "stream",
     "text": [
      "0    4\n",
      "1    5\n",
      "2    6\n",
      "3   -7\n",
      "dtype: int64\n"
     ]
    }
   ],
   "source": [
    "obj = Series([4, 5, 6, -7])\n",
    "print(obj)"
   ]
  },
  {
   "cell_type": "code",
   "execution_count": 4,
   "metadata": {},
   "outputs": [
    {
     "name": "stdout",
     "output_type": "stream",
     "text": [
      "RangeIndex(start=0, stop=4, step=1)\n",
      "[ 4  5  6 -7]\n"
     ]
    }
   ],
   "source": [
    "print(obj.index)\n",
    "print(obj.values)"
   ]
  },
  {
   "cell_type": "code",
   "execution_count": 5,
   "metadata": {},
   "outputs": [
    {
     "name": "stdout",
     "output_type": "stream",
     "text": [
      "d    4\n",
      "b    7\n",
      "c   -5\n",
      "a    3\n",
      "dtype: int64\n"
     ]
    }
   ],
   "source": [
    "#56 Series的基本操作\n",
    "\n",
    "obj2 = Series([4, 7, -5, 3], index=['d', 'b', 'c', 'a'])\n",
    "print(obj2)"
   ]
  },
  {
   "cell_type": "code",
   "execution_count": 6,
   "metadata": {},
   "outputs": [
    {
     "name": "stdout",
     "output_type": "stream",
     "text": [
      "d    4\n",
      "b    7\n",
      "c    6\n",
      "a    3\n",
      "dtype: int64\n"
     ]
    }
   ],
   "source": [
    "obj2['c'] = 6\n",
    "print(obj2)"
   ]
  },
  {
   "cell_type": "code",
   "execution_count": 7,
   "metadata": {},
   "outputs": [
    {
     "name": "stdout",
     "output_type": "stream",
     "text": [
      "False\n"
     ]
    }
   ],
   "source": [
    "print('f' in obj2)"
   ]
  },
  {
   "cell_type": "code",
   "execution_count": 9,
   "metadata": {},
   "outputs": [
    {
     "name": "stdout",
     "output_type": "stream",
     "text": [
      "beijing      35000\n",
      "shanghai     71000\n",
      "guangzhou    16000\n",
      "dtype: int64\n"
     ]
    }
   ],
   "source": [
    "sdata = {'beijing':35000, 'shanghai':71000, 'guangzhou':16000}#定义一个字典\n",
    "obj3 = Series(sdata)\n",
    "print(obj3)"
   ]
  },
  {
   "cell_type": "code",
   "execution_count": 10,
   "metadata": {},
   "outputs": [
    {
     "name": "stdout",
     "output_type": "stream",
     "text": [
      "bj    35000\n",
      "sh    71000\n",
      "gz    16000\n",
      "dtype: int64\n"
     ]
    }
   ],
   "source": [
    "obj3.index = ['bj', 'sh', 'gz']\n",
    "print(obj3)"
   ]
  },
  {
   "cell_type": "code",
   "execution_count": 16,
   "metadata": {},
   "outputs": [
    {
     "name": "stdout",
     "output_type": "stream",
     "text": [
      "       city  year  pop\n",
      "0  shanghai  2016  1.5\n",
      "1  shanghai  2017  1.7\n",
      "2  shanghai  2018  3.6\n",
      "3   beijing  2017  2.4\n",
      "4   beijing  2018  2.9\n"
     ]
    }
   ],
   "source": [
    "#57 Dataframe的基本操作\n",
    "\n",
    "data = {'city':['shanghai', 'shanghai', 'shanghai', 'beijing', 'beijing'],\n",
    "        'year':[2016, 2017, 2018, 2017, 2018],\n",
    "        'pop':[1.5, 1.7, 3.6, 2.4, 2.9]\n",
    "       }\n",
    "\n",
    "\n",
    "frame = DataFrame(data)\n",
    "\n",
    "print(frame)"
   ]
  },
  {
   "cell_type": "code",
   "execution_count": 17,
   "metadata": {},
   "outputs": [
    {
     "name": "stdout",
     "output_type": "stream",
     "text": [
      "   year      city  pop\n",
      "0  2016  shanghai  1.5\n",
      "1  2017  shanghai  1.7\n",
      "2  2018  shanghai  3.6\n",
      "3  2017   beijing  2.4\n",
      "4  2018   beijing  2.9\n"
     ]
    }
   ],
   "source": [
    "frame2 = DataFrame(data, columns=['year', 'city', 'pop'])#根据year排序，再根据city排序，再根据pop排序\n",
    "print(frame2)"
   ]
  },
  {
   "cell_type": "code",
   "execution_count": 18,
   "metadata": {},
   "outputs": [
    {
     "name": "stdout",
     "output_type": "stream",
     "text": [
      "0    shanghai\n",
      "1    shanghai\n",
      "2    shanghai\n",
      "3     beijing\n",
      "4     beijing\n",
      "Name: city, dtype: object\n",
      "0    2016\n",
      "1    2017\n",
      "2    2018\n",
      "3    2017\n",
      "4    2018\n",
      "Name: year, dtype: int64\n"
     ]
    }
   ],
   "source": [
    "print(frame2['city'])\n",
    "print(frame2.year)"
   ]
  },
  {
   "cell_type": "code",
   "execution_count": 19,
   "metadata": {},
   "outputs": [
    {
     "name": "stdout",
     "output_type": "stream",
     "text": [
      "   year      city  pop    cap\n",
      "0  2016  shanghai  1.5  False\n",
      "1  2017  shanghai  1.7  False\n",
      "2  2018  shanghai  3.6  False\n",
      "3  2017   beijing  2.4   True\n",
      "4  2018   beijing  2.9   True\n"
     ]
    }
   ],
   "source": [
    "frame2['cap'] = frame2.city == 'beijing'#判断字符串是否相等\n",
    "print(frame2)"
   ]
  },
  {
   "cell_type": "code",
   "execution_count": 20,
   "metadata": {},
   "outputs": [
    {
     "name": "stdout",
     "output_type": "stream",
     "text": [
      "      beijing  sahnghai\n",
      "2008      1.5       2.0\n",
      "2009      2.0       3.6\n"
     ]
    }
   ],
   "source": [
    "pop = {'beijing':{2008:1.5, 2009:2.0},\n",
    "       'sahnghai':{2008:2.0, 2009:3.6}\n",
    "      }\n",
    "frame3 = DataFrame(pop)\n",
    "print(frame3)"
   ]
  },
  {
   "cell_type": "code",
   "execution_count": 21,
   "metadata": {},
   "outputs": [
    {
     "name": "stdout",
     "output_type": "stream",
     "text": [
      "          2008  2009\n",
      "beijing    1.5   2.0\n",
      "sahnghai   2.0   3.6\n"
     ]
    }
   ],
   "source": [
    "print(frame3.T)"
   ]
  },
  {
   "cell_type": "code",
   "execution_count": 22,
   "metadata": {},
   "outputs": [
    {
     "name": "stdout",
     "output_type": "stream",
     "text": [
      "a    3.6\n",
      "b    4.5\n",
      "c   -5.3\n",
      "d    7.2\n",
      "e    NaN\n",
      "dtype: float64\n"
     ]
    }
   ],
   "source": [
    "obj4 = Series([4.5, 7.2, -5.3, 3.6], index=['b', 'd', 'c', 'a'])\n",
    "obj5 = obj4.reindex(['a', 'b', 'c', 'd', 'e'])\n",
    "print(obj5)"
   ]
  },
  {
   "cell_type": "code",
   "execution_count": 23,
   "metadata": {},
   "outputs": [
    {
     "name": "stdout",
     "output_type": "stream",
     "text": [
      "a    3.6\n",
      "b    4.5\n",
      "c   -5.3\n",
      "d    7.2\n",
      "e    0.0\n",
      "dtype: float64\n"
     ]
    }
   ],
   "source": [
    "obj5 = obj4.reindex(['a', 'b', 'c', 'd', 'e'], fill_value=0)\n",
    "print(obj5)"
   ]
  },
  {
   "cell_type": "code",
   "execution_count": 26,
   "metadata": {},
   "outputs": [
    {
     "name": "stdout",
     "output_type": "stream",
     "text": [
      "0      blue\n",
      "1      blue\n",
      "2    purple\n",
      "3    purple\n",
      "4    yellow\n",
      "5    yellow\n",
      "dtype: object\n"
     ]
    }
   ],
   "source": [
    "obj6 = Series(['blue', 'purple', 'yellow'], index=[0, 2, 4])\n",
    "print(obj6.reindex(range(6), method='ffill'))#使用上面的内容进行填充"
   ]
  },
  {
   "cell_type": "code",
   "execution_count": 27,
   "metadata": {},
   "outputs": [
    {
     "name": "stdout",
     "output_type": "stream",
     "text": [
      "0      blue\n",
      "1    purple\n",
      "2    purple\n",
      "3    yellow\n",
      "4    yellow\n",
      "5       NaN\n",
      "dtype: object\n"
     ]
    }
   ],
   "source": [
    "print(obj6.reindex(range(6), method='bfill'))#使用后面的内容进行填充"
   ]
  },
  {
   "cell_type": "code",
   "execution_count": 29,
   "metadata": {},
   "outputs": [],
   "source": [
    "from numpy import  nan as NA"
   ]
  },
  {
   "cell_type": "code",
   "execution_count": 31,
   "metadata": {},
   "outputs": [
    {
     "name": "stdout",
     "output_type": "stream",
     "text": [
      "0    1.0\n",
      "1    NaN\n",
      "2    2.0\n",
      "dtype: float64\n",
      "0    1.0\n",
      "2    2.0\n",
      "dtype: float64\n"
     ]
    }
   ],
   "source": [
    "data = Series([1, NA, 2])\n",
    "print(data)\n",
    "print(data.dropna())#删除缺失值"
   ]
  },
  {
   "cell_type": "code",
   "execution_count": 32,
   "metadata": {},
   "outputs": [
    {
     "name": "stdout",
     "output_type": "stream",
     "text": [
      "     0    1    2\n",
      "0  1.0  6.5  3.0\n",
      "1  1.0  NaN  NaN\n",
      "2  NaN  NaN  NaN\n",
      "     0    1    2\n",
      "0  1.0  6.5  3.0\n"
     ]
    }
   ],
   "source": [
    "data = DataFrame([[1., 6.5, 3], [1, NA, NA], [NA, NA, NA]])\n",
    "print(data)\n",
    "print(data.dropna())#删除缺失值"
   ]
  },
  {
   "cell_type": "code",
   "execution_count": 33,
   "metadata": {},
   "outputs": [
    {
     "name": "stdout",
     "output_type": "stream",
     "text": [
      "     0    1    2\n",
      "0  1.0  6.5  3.0\n",
      "1  1.0  NaN  NaN\n"
     ]
    }
   ],
   "source": [
    "print(data.dropna(how='all'))#只删除整行为NA的"
   ]
  },
  {
   "cell_type": "code",
   "execution_count": 42,
   "metadata": {},
   "outputs": [
    {
     "name": "stdout",
     "output_type": "stream",
     "text": [
      "     0    1    2   4\n",
      "0  1.0  6.5  3.0 NaN\n",
      "1  1.0  NaN  NaN NaN\n",
      "2  NaN  NaN  NaN NaN\n",
      "     0    1    2\n",
      "0  1.0  6.5  3.0\n",
      "1  1.0  NaN  NaN\n",
      "2  NaN  NaN  NaN\n",
      "     0    1    2   4\n",
      "0  1.0  6.5  3.0 NaN\n",
      "1  1.0  NaN  NaN NaN\n"
     ]
    }
   ],
   "source": [
    "data2 = DataFrame([[1., 6.5, 3], [1, NA, NA], [NA, NA, NA]])\n",
    "data2[4] = NA\n",
    "print(data2)\n",
    "print(data2.dropna(axis=1, how='all'))#列\n",
    "print(data2.dropna(axis=0, how='all'))#行"
   ]
  },
  {
   "cell_type": "code",
   "execution_count": 43,
   "metadata": {},
   "outputs": [
    {
     "name": "stdout",
     "output_type": "stream",
     "text": [
      "     0    1    2    4\n",
      "0  1.0  6.5  3.0  0.0\n",
      "1  1.0  0.0  0.0  0.0\n",
      "2  0.0  0.0  0.0  0.0\n",
      "     0    1    2   4\n",
      "0  1.0  6.5  3.0 NaN\n",
      "1  1.0  NaN  NaN NaN\n",
      "2  NaN  NaN  NaN NaN\n"
     ]
    }
   ],
   "source": [
    "data2.fillna(0)\n",
    "print(data2.fillna(0))#这里只修改了副本\n",
    "print(data2)"
   ]
  },
  {
   "cell_type": "code",
   "execution_count": 44,
   "metadata": {},
   "outputs": [
    {
     "name": "stdout",
     "output_type": "stream",
     "text": [
      "None\n",
      "     0    1    2    4\n",
      "0  1.0  6.5  3.0  0.0\n",
      "1  1.0  0.0  0.0  0.0\n",
      "2  0.0  0.0  0.0  0.0\n"
     ]
    }
   ],
   "source": [
    "print(data2.fillna(0, inplace=True))#缺失值都填充为0\n",
    "print(data2)"
   ]
  },
  {
   "cell_type": "code",
   "execution_count": 47,
   "metadata": {},
   "outputs": [
    {
     "name": "stdout",
     "output_type": "stream",
     "text": [
      "a  1   -0.904748\n",
      "   2    0.243339\n",
      "   3    1.390746\n",
      "b  1   -0.769489\n",
      "   2    1.111573\n",
      "   3    0.170162\n",
      "c  1    1.075815\n",
      "   2    0.177903\n",
      "d  2    0.034436\n",
      "   3    0.052252\n",
      "dtype: float64\n"
     ]
    }
   ],
   "source": [
    "#58 层次化索引\n",
    "\n",
    "data3 = Series(np.random.randn(10),\n",
    "              index = [['a', 'a', 'a', 'b', 'b', 'b', 'c', 'c', 'd', 'd'],\n",
    "                       [1, 2, 3, 1, 2, 3, 1, 2, 2, 3]])\n",
    "print(data3)"
   ]
  },
  {
   "cell_type": "code",
   "execution_count": 48,
   "metadata": {},
   "outputs": [
    {
     "name": "stdout",
     "output_type": "stream",
     "text": [
      "1   -0.769489\n",
      "2    1.111573\n",
      "3    0.170162\n",
      "dtype: float64\n"
     ]
    }
   ],
   "source": [
    "print(data3['b'])"
   ]
  },
  {
   "cell_type": "code",
   "execution_count": 49,
   "metadata": {},
   "outputs": [
    {
     "name": "stdout",
     "output_type": "stream",
     "text": [
      "b  1   -0.769489\n",
      "   2    1.111573\n",
      "   3    0.170162\n",
      "c  1    1.075815\n",
      "   2    0.177903\n",
      "dtype: float64\n"
     ]
    }
   ],
   "source": [
    "print(data3['b':'c'])"
   ]
  },
  {
   "cell_type": "code",
   "execution_count": 51,
   "metadata": {},
   "outputs": [
    {
     "name": "stdout",
     "output_type": "stream",
     "text": [
      "          1         2         3\n",
      "a -0.904748  0.243339  1.390746\n",
      "b -0.769489  1.111573  0.170162\n",
      "c  1.075815  0.177903       NaN\n",
      "d       NaN  0.034436  0.052252\n",
      "<class 'pandas.core.frame.DataFrame'>\n"
     ]
    }
   ],
   "source": [
    "print(data3.unstack())#转换为Dataframe类型\n",
    "print(type(data3.unstack()))"
   ]
  },
  {
   "cell_type": "code",
   "execution_count": 52,
   "metadata": {},
   "outputs": [
    {
     "name": "stdout",
     "output_type": "stream",
     "text": [
      "a  1   -0.904748\n",
      "   2    0.243339\n",
      "   3    1.390746\n",
      "b  1   -0.769489\n",
      "   2    1.111573\n",
      "   3    0.170162\n",
      "c  1    1.075815\n",
      "   2    0.177903\n",
      "d  2    0.034436\n",
      "   3    0.052252\n",
      "dtype: float64\n",
      "<class 'pandas.core.series.Series'>\n"
     ]
    }
   ],
   "source": [
    "print(data3.unstack().stack())#转换为Dataframe类型,再转换回来\n",
    "print(type(data3.unstack().stack()))"
   ]
  },
  {
   "cell_type": "code",
   "execution_count": null,
   "metadata": {},
   "outputs": [],
   "source": []
  }
 ],
 "metadata": {
  "kernelspec": {
   "display_name": "Python 3",
   "language": "python",
   "name": "python3"
  },
  "language_info": {
   "codemirror_mode": {
    "name": "ipython",
    "version": 3
   },
   "file_extension": ".py",
   "mimetype": "text/x-python",
   "name": "python",
   "nbconvert_exporter": "python",
   "pygments_lexer": "ipython3",
   "version": "3.6.3"
  }
 },
 "nbformat": 4,
 "nbformat_minor": 2
}
